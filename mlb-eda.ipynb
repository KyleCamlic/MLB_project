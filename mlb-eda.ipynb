{
 "cells": [
  {
   "cell_type": "markdown",
   "metadata": {
    "papermill": {
     "duration": 0.006823,
     "end_time": "2022-04-05T01:29:24.400028",
     "exception": false,
     "start_time": "2022-04-05T01:29:24.393205",
     "status": "completed"
    },
    "tags": []
   },
   "source": []
  },
  {
   "cell_type": "code",
   "execution_count": 1,
   "metadata": {
    "execution": {
     "iopub.execute_input": "2022-04-05T01:29:24.422094Z",
     "iopub.status.busy": "2022-04-05T01:29:24.421231Z",
     "iopub.status.idle": "2022-04-05T01:29:24.425087Z",
     "shell.execute_reply": "2022-04-05T01:29:24.424424Z",
     "shell.execute_reply.started": "2022-04-05T01:25:38.125637Z"
    },
    "papermill": {
     "duration": 0.018943,
     "end_time": "2022-04-05T01:29:24.425265",
     "exception": false,
     "start_time": "2022-04-05T01:29:24.406322",
     "status": "completed"
    },
    "tags": []
   },
   "outputs": [],
   "source": [
    "# data manipulation\n",
    "import numpy as np # linear algebra\n",
    "import pandas as pd # data processing, CSV file I/O (e.g. pd.read_csv)"
   ]
  },
  {
   "cell_type": "code",
   "execution_count": 2,
   "metadata": {
    "execution": {
     "iopub.execute_input": "2022-04-05T01:29:24.440300Z",
     "iopub.status.busy": "2022-04-05T01:29:24.439394Z",
     "iopub.status.idle": "2022-04-05T01:29:37.148286Z",
     "shell.execute_reply": "2022-04-05T01:29:37.148745Z",
     "shell.execute_reply.started": "2022-04-05T01:25:40.685569Z"
    },
    "papermill": {
     "duration": 12.717914,
     "end_time": "2022-04-05T01:29:37.148979",
     "exception": false,
     "start_time": "2022-04-05T01:29:24.431065",
     "status": "completed"
    },
    "tags": []
   },
   "outputs": [],
   "source": [
    "df = pd.read_csv(\"../input/mlb-statcast-data/statcast_2017.csv\")"
   ]
  },
  {
   "cell_type": "code",
   "execution_count": 3,
   "metadata": {
    "execution": {
     "iopub.execute_input": "2022-04-05T01:29:37.175081Z",
     "iopub.status.busy": "2022-04-05T01:29:37.174020Z",
     "iopub.status.idle": "2022-04-05T01:29:37.200527Z",
     "shell.execute_reply": "2022-04-05T01:29:37.201022Z",
     "shell.execute_reply.started": "2022-04-05T01:26:00.933354Z"
    },
    "papermill": {
     "duration": 0.046329,
     "end_time": "2022-04-05T01:29:37.201202",
     "exception": false,
     "start_time": "2022-04-05T01:29:37.154873",
     "status": "completed"
    },
    "tags": []
   },
   "outputs": [
    {
     "data": {
      "text/html": [
       "<div>\n",
       "<style scoped>\n",
       "    .dataframe tbody tr th:only-of-type {\n",
       "        vertical-align: middle;\n",
       "    }\n",
       "\n",
       "    .dataframe tbody tr th {\n",
       "        vertical-align: top;\n",
       "    }\n",
       "\n",
       "    .dataframe thead th {\n",
       "        text-align: right;\n",
       "    }\n",
       "</style>\n",
       "<table border=\"1\" class=\"dataframe\">\n",
       "  <thead>\n",
       "    <tr style=\"text-align: right;\">\n",
       "      <th></th>\n",
       "      <th>Unnamed: 0</th>\n",
       "      <th>pitch_type</th>\n",
       "      <th>game_date</th>\n",
       "      <th>release_speed</th>\n",
       "      <th>release_pos_x</th>\n",
       "      <th>release_pos_z</th>\n",
       "      <th>player_name</th>\n",
       "      <th>batter</th>\n",
       "      <th>pitcher</th>\n",
       "      <th>events</th>\n",
       "      <th>...</th>\n",
       "      <th>fld_score</th>\n",
       "      <th>post_away_score</th>\n",
       "      <th>post_home_score</th>\n",
       "      <th>post_bat_score</th>\n",
       "      <th>post_fld_score</th>\n",
       "      <th>if_fielding_alignment</th>\n",
       "      <th>of_fielding_alignment</th>\n",
       "      <th>spin_axis</th>\n",
       "      <th>delta_home_win_exp</th>\n",
       "      <th>delta_run_exp</th>\n",
       "    </tr>\n",
       "  </thead>\n",
       "  <tbody>\n",
       "    <tr>\n",
       "      <th>0</th>\n",
       "      <td>2265</td>\n",
       "      <td>FC</td>\n",
       "      <td>2017-10-01</td>\n",
       "      <td>91.9</td>\n",
       "      <td>-1.19</td>\n",
       "      <td>5.99</td>\n",
       "      <td>Osuna, Roberto</td>\n",
       "      <td>595885</td>\n",
       "      <td>532077</td>\n",
       "      <td>field_out</td>\n",
       "      <td>...</td>\n",
       "      <td>2</td>\n",
       "      <td>2</td>\n",
       "      <td>1</td>\n",
       "      <td>1</td>\n",
       "      <td>2</td>\n",
       "      <td>Infield shift</td>\n",
       "      <td>Strategic</td>\n",
       "      <td>183.0</td>\n",
       "      <td>-0.044</td>\n",
       "      <td>-0.124</td>\n",
       "    </tr>\n",
       "    <tr>\n",
       "      <th>1</th>\n",
       "      <td>2350</td>\n",
       "      <td>FC</td>\n",
       "      <td>2017-10-01</td>\n",
       "      <td>91.8</td>\n",
       "      <td>-1.08</td>\n",
       "      <td>6.18</td>\n",
       "      <td>Osuna, Roberto</td>\n",
       "      <td>595885</td>\n",
       "      <td>532077</td>\n",
       "      <td>NaN</td>\n",
       "      <td>...</td>\n",
       "      <td>2</td>\n",
       "      <td>2</td>\n",
       "      <td>1</td>\n",
       "      <td>1</td>\n",
       "      <td>2</td>\n",
       "      <td>Infield shift</td>\n",
       "      <td>Strategic</td>\n",
       "      <td>164.0</td>\n",
       "      <td>-0.044</td>\n",
       "      <td>-0.035</td>\n",
       "    </tr>\n",
       "    <tr>\n",
       "      <th>2</th>\n",
       "      <td>2397</td>\n",
       "      <td>FF</td>\n",
       "      <td>2017-10-01</td>\n",
       "      <td>94.7</td>\n",
       "      <td>-0.62</td>\n",
       "      <td>6.34</td>\n",
       "      <td>Osuna, Roberto</td>\n",
       "      <td>595885</td>\n",
       "      <td>532077</td>\n",
       "      <td>NaN</td>\n",
       "      <td>...</td>\n",
       "      <td>2</td>\n",
       "      <td>2</td>\n",
       "      <td>1</td>\n",
       "      <td>1</td>\n",
       "      <td>2</td>\n",
       "      <td>Infield shift</td>\n",
       "      <td>Strategic</td>\n",
       "      <td>189.0</td>\n",
       "      <td>-0.044</td>\n",
       "      <td>0.038</td>\n",
       "    </tr>\n",
       "    <tr>\n",
       "      <th>3</th>\n",
       "      <td>2485</td>\n",
       "      <td>CH</td>\n",
       "      <td>2017-10-01</td>\n",
       "      <td>82.8</td>\n",
       "      <td>-0.99</td>\n",
       "      <td>6.06</td>\n",
       "      <td>Osuna, Roberto</td>\n",
       "      <td>595885</td>\n",
       "      <td>532077</td>\n",
       "      <td>NaN</td>\n",
       "      <td>...</td>\n",
       "      <td>2</td>\n",
       "      <td>2</td>\n",
       "      <td>1</td>\n",
       "      <td>1</td>\n",
       "      <td>2</td>\n",
       "      <td>Infield shift</td>\n",
       "      <td>Strategic</td>\n",
       "      <td>226.0</td>\n",
       "      <td>-0.044</td>\n",
       "      <td>0.020</td>\n",
       "    </tr>\n",
       "    <tr>\n",
       "      <th>4</th>\n",
       "      <td>2666</td>\n",
       "      <td>FT</td>\n",
       "      <td>2017-10-01</td>\n",
       "      <td>95.9</td>\n",
       "      <td>-0.89</td>\n",
       "      <td>6.13</td>\n",
       "      <td>Osuna, Roberto</td>\n",
       "      <td>595885</td>\n",
       "      <td>532077</td>\n",
       "      <td>NaN</td>\n",
       "      <td>...</td>\n",
       "      <td>2</td>\n",
       "      <td>2</td>\n",
       "      <td>1</td>\n",
       "      <td>1</td>\n",
       "      <td>2</td>\n",
       "      <td>Infield shift</td>\n",
       "      <td>Strategic</td>\n",
       "      <td>221.0</td>\n",
       "      <td>-0.044</td>\n",
       "      <td>0.014</td>\n",
       "    </tr>\n",
       "  </tbody>\n",
       "</table>\n",
       "<p>5 rows × 93 columns</p>\n",
       "</div>"
      ],
      "text/plain": [
       "   Unnamed: 0 pitch_type   game_date  release_speed  release_pos_x  \\\n",
       "0        2265         FC  2017-10-01           91.9          -1.19   \n",
       "1        2350         FC  2017-10-01           91.8          -1.08   \n",
       "2        2397         FF  2017-10-01           94.7          -0.62   \n",
       "3        2485         CH  2017-10-01           82.8          -0.99   \n",
       "4        2666         FT  2017-10-01           95.9          -0.89   \n",
       "\n",
       "   release_pos_z     player_name  batter  pitcher     events  ... fld_score  \\\n",
       "0           5.99  Osuna, Roberto  595885   532077  field_out  ...         2   \n",
       "1           6.18  Osuna, Roberto  595885   532077        NaN  ...         2   \n",
       "2           6.34  Osuna, Roberto  595885   532077        NaN  ...         2   \n",
       "3           6.06  Osuna, Roberto  595885   532077        NaN  ...         2   \n",
       "4           6.13  Osuna, Roberto  595885   532077        NaN  ...         2   \n",
       "\n",
       "   post_away_score  post_home_score  post_bat_score  post_fld_score  \\\n",
       "0                2                1               1               2   \n",
       "1                2                1               1               2   \n",
       "2                2                1               1               2   \n",
       "3                2                1               1               2   \n",
       "4                2                1               1               2   \n",
       "\n",
       "   if_fielding_alignment of_fielding_alignment spin_axis delta_home_win_exp  \\\n",
       "0          Infield shift             Strategic     183.0             -0.044   \n",
       "1          Infield shift             Strategic     164.0             -0.044   \n",
       "2          Infield shift             Strategic     189.0             -0.044   \n",
       "3          Infield shift             Strategic     226.0             -0.044   \n",
       "4          Infield shift             Strategic     221.0             -0.044   \n",
       "\n",
       "  delta_run_exp  \n",
       "0        -0.124  \n",
       "1        -0.035  \n",
       "2         0.038  \n",
       "3         0.020  \n",
       "4         0.014  \n",
       "\n",
       "[5 rows x 93 columns]"
      ]
     },
     "execution_count": 3,
     "metadata": {},
     "output_type": "execute_result"
    }
   ],
   "source": [
    "df.head()"
   ]
  },
  {
   "cell_type": "code",
   "execution_count": 1,
   "metadata": {
    "papermill": {
     "duration": 0.006246,
     "end_time": "2022-04-05T01:29:37.214234",
     "exception": false,
     "start_time": "2022-04-05T01:29:37.207988",
     "status": "completed"
    },
    "tags": []
   },
   "outputs": [
    {
     "name": "stdout",
     "output_type": "stream",
     "text": [
      "116\n"
     ]
    }
   ],
   "source": [
    "print(43+73)"
   ]
  },
  {
   "cell_type": "code",
   "execution_count": null,
   "metadata": {},
   "outputs": [],
   "source": []
  }
 ],
 "metadata": {
  "kernelspec": {
   "display_name": "Python 3",
   "language": "python",
   "name": "python3"
  },
  "language_info": {
   "codemirror_mode": {
    "name": "ipython",
    "version": 3
   },
   "file_extension": ".py",
   "mimetype": "text/x-python",
   "name": "python",
   "nbconvert_exporter": "python",
   "pygments_lexer": "ipython3",
   "version": "3.8.5"
  },
  "papermill": {
   "default_parameters": {},
   "duration": 23.188526,
   "end_time": "2022-04-05T01:29:37.831371",
   "environment_variables": {},
   "exception": null,
   "input_path": "__notebook__.ipynb",
   "output_path": "__notebook__.ipynb",
   "parameters": {},
   "start_time": "2022-04-05T01:29:14.642845",
   "version": "2.3.3"
  }
 },
 "nbformat": 4,
 "nbformat_minor": 5
}
